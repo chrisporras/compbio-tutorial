{
 "cells": [
  {
   "cell_type": "markdown",
   "metadata": {},
   "source": [
    "# Python Crash Course\n",
    "## Compbio Camp - February 2019\n",
    "### Author: Chris Porras\n"
   ]
  },
  {
   "cell_type": "markdown",
   "metadata": {},
   "source": [
    "# <font color=blue\\>*YOUR NAME HERE*</font>"
   ]
  },
  {
   "cell_type": "markdown",
   "metadata": {},
   "source": [
    "**Welcome to Python!** <br>\n",
    "This will be a brief crash course of the basic computational techniques that we will be using throughout this camp. "
   ]
  },
  {
   "cell_type": "markdown",
   "metadata": {},
   "source": [
    "### Some quick vocabulary:"
   ]
  },
  {
   "cell_type": "markdown",
   "metadata": {},
   "source": [
    "> * __Jupyter Notebook__: a computational environment that allows us to neatly format and keep track of our Python code in <font color=blue>\"notebooks\"</font>. <br>\n",
    "<br>\n",
    "* __Cell__: the darker grey space below denoted by <font color=blue>\"  In [ &ensp; ]  :  \"</font>. Each cell is a convenient container for us to write a segment of Python code in. We can run the code inside of a cell using the `ctrl + enter` or `shift + enter` keyboard shortcuts. Cells are used to separate parts of our code that we want to run separately from one another."
   ]
  },
  {
   "cell_type": "markdown",
   "metadata": {},
   "source": [
    "## Let's jump into it!"
   ]
  },
  {
   "cell_type": "markdown",
   "metadata": {},
   "source": [
    "### 1. Variable assignments and arithmetic"
   ]
  },
  {
   "cell_type": "markdown",
   "metadata": {},
   "source": [
    "> Variables hold information in the form of integers, decimals (called ___\"floats\"___), words (called ___\"strings\"___ ), and others. We can assign values to variables with the \" __=__ \" assignment operator. Values assigned to variables are called ___\"parameters\"___ or ___\"constants\"___ and are stored in memory to be \"called\" by their variable names in other operations. "
   ]
  },
  {
   "cell_type": "code",
   "execution_count": 44,
   "metadata": {},
   "outputs": [],
   "source": [
    "## P.S. We can write \"comments\" in cells using the '#'. \n",
    "# Writing comments is useful for annotating our code as we write it. \n",
    "# Comments are ignored when the code is run.\n",
    "\n",
    "####### Example #######\n",
    "a = 5\n",
    "b = 0.5\n",
    "c = \"dogs\" # strings can be written with either double \"\" or single '' quotes."
   ]
  },
  {
   "cell_type": "markdown",
   "metadata": {},
   "source": [
    "> We can do standard arithmetic with variables and the __(+  ,  -  ,  *  ,  /  )__ operators. "
   ]
  },
  {
   "cell_type": "code",
   "execution_count": 24,
   "metadata": {},
   "outputs": [
    {
     "data": {
      "text/plain": [
       "5.5"
      ]
     },
     "execution_count": 24,
     "metadata": {},
     "output_type": "execute_result"
    }
   ],
   "source": [
    "a + b"
   ]
  },
  {
   "cell_type": "code",
   "execution_count": 25,
   "metadata": {},
   "outputs": [
    {
     "data": {
      "text/plain": [
       "4.5"
      ]
     },
     "execution_count": 25,
     "metadata": {},
     "output_type": "execute_result"
    }
   ],
   "source": [
    "a - b"
   ]
  },
  {
   "cell_type": "code",
   "execution_count": 45,
   "metadata": {},
   "outputs": [
    {
     "data": {
      "text/plain": [
       "2.5"
      ]
     },
     "execution_count": 45,
     "metadata": {},
     "output_type": "execute_result"
    }
   ],
   "source": [
    "a * b"
   ]
  },
  {
   "cell_type": "code",
   "execution_count": 27,
   "metadata": {},
   "outputs": [
    {
     "data": {
      "text/plain": [
       "10.0"
      ]
     },
     "execution_count": 27,
     "metadata": {},
     "output_type": "execute_result"
    }
   ],
   "source": [
    "a / b "
   ]
  },
  {
   "cell_type": "markdown",
   "metadata": {},
   "source": [
    "> We can write exponents with the \" __**__ \" operator."
   ]
  },
  {
   "cell_type": "code",
   "execution_count": 43,
   "metadata": {},
   "outputs": [
    {
     "data": {
      "text/plain": [
       "8"
      ]
     },
     "execution_count": 43,
     "metadata": {},
     "output_type": "execute_result"
    }
   ],
   "source": [
    "####### Example #######\n",
    "2 ** 3"
   ]
  },
  {
   "cell_type": "markdown",
   "metadata": {},
   "source": [
    "> __Question__: What do you think will happen when we perform the following operation? <br>\n",
    "`a + c`"
   ]
  },
  {
   "cell_type": "code",
   "execution_count": 46,
   "metadata": {},
   "outputs": [],
   "source": [
    "####### YOUR CODE HERE #######\n"
   ]
  },
  {
   "cell_type": "markdown",
   "metadata": {},
   "source": [
    "> __Answer__: we get a `TypeError` when we try to perform arithmetic with an integer and a string. This is how Python lets us know that we're asking it to do something that doesn't make sense. <br>\n",
    "Was your prediction correct?"
   ]
  },
  {
   "cell_type": "markdown",
   "metadata": {},
   "source": [
    "> When performing assignments, the variable names don't really matter as long as you are consistent with them. It's good coding practice to use descriptive but brief names."
   ]
  },
  {
   "cell_type": "code",
   "execution_count": 47,
   "metadata": {},
   "outputs": [
    {
     "data": {
      "text/plain": [
       "168"
      ]
     },
     "execution_count": 47,
     "metadata": {},
     "output_type": "execute_result"
    }
   ],
   "source": [
    "####### Example #######\n",
    "hrs_in_day = 24\n",
    "num_days = 7\n",
    "\n",
    "hrs_in_week = hrs_in_day * num_days\n",
    "\n",
    "hrs_in_week"
   ]
  },
  {
   "cell_type": "markdown",
   "metadata": {},
   "source": [
    "#### Practice:"
   ]
  },
  {
   "cell_type": "markdown",
   "metadata": {},
   "source": [
    "> Write code using variable assignments to show the results of the following: <br>\n",
    "1. $\\frac{3}{2}\\times 5$\n",
    "2. $10\\times 0.3$\n",
    "3. $4^2 - 3$"
   ]
  },
  {
   "cell_type": "code",
   "execution_count": 43,
   "metadata": {},
   "outputs": [],
   "source": [
    "####### YOUR CODE HERE #######\n",
    "# 1.\n"
   ]
  },
  {
   "cell_type": "code",
   "execution_count": 44,
   "metadata": {},
   "outputs": [],
   "source": [
    "####### YOUR CODE HERE #######\n",
    "# 2.\n"
   ]
  },
  {
   "cell_type": "code",
   "execution_count": 45,
   "metadata": {},
   "outputs": [],
   "source": [
    "####### YOUR CODE HERE #######\n",
    "# 3.\n"
   ]
  },
  {
   "cell_type": "markdown",
   "metadata": {},
   "source": [
    "> __Answers__:\n",
    "1. 7.5\n",
    "2. 3.0\n",
    "3. 13"
   ]
  },
  {
   "cell_type": "markdown",
   "metadata": {},
   "source": [
    "### 2. Lists"
   ]
  },
  {
   "cell_type": "markdown",
   "metadata": {},
   "source": [
    "> * __Lists:__ are a useful data type that allows us to combine values into a single form. We can make lists with the \" [&emsp;] \" operator surrounding a sequence of values to combine. <br><br>\n",
    "* __Function(&ensp;)__: the (&ensp;) denote functions. Functions can be fed inputs, or ___\"arguments\"___, and will perform operations and provide an output when run. "
   ]
  },
  {
   "cell_type": "code",
   "execution_count": 21,
   "metadata": {},
   "outputs": [
    {
     "name": "stdout",
     "output_type": "stream",
     "text": [
      "[1, 3, 5, 7]\n",
      "[2, 4, 6, 8]\n",
      "[1, 3, 5, 7, 2, 4, 6, 8]\n"
     ]
    }
   ],
   "source": [
    "####### Example #######\n",
    "# We can assign lists to specific names to access the information sequence all at once\n",
    "odd_nums = [1,3,5,7]\n",
    "\n",
    "even_nums = [2,4,6,8]\n",
    "\n",
    "# The print() function returns the values of its inputs. \n",
    "\n",
    "# Where before we needed to have separate cells for each single output,\n",
    "# we can now use print() to show the outputs we want in the same cell. \n",
    "\n",
    "print(odd_nums)\n",
    "print(even_nums)"
   ]
  },
  {
   "cell_type": "markdown",
   "metadata": {},
   "source": [
    "> __Question__: What do you think will happen when you perform the following operation? <br>\n",
    "`print(odd_nums + even_nums)`"
   ]
  },
  {
   "cell_type": "code",
   "execution_count": null,
   "metadata": {},
   "outputs": [],
   "source": [
    "####### YOUR CODE HERE #######\n"
   ]
  },
  {
   "cell_type": "markdown",
   "metadata": {},
   "source": [
    "> __Answer__: adding lists _doesn't_ work the same way that adding variables does. Instead we combine the lists into larger ones. To perform typical arithmetic with lists we will need to convert them into a new data type that plays nicely with arithmetic operations. <br>\n",
    "How did this compare to your prediction?"
   ]
  },
  {
   "cell_type": "markdown",
   "metadata": {},
   "source": [
    "### 3. Building arrays and vector arithmetic in `NumPy`"
   ]
  },
  {
   "cell_type": "markdown",
   "metadata": {},
   "source": [
    "> * __Array__: A structure that stores a greater amount of information in an organized way (often arranged in rows and columns). The data stored in an array must be of the same type (integers, floats, etc.). Arrays with only one row or one column of data are called ___\"1-dimensional\"___. <br> <br>"
   ]
  },
  {
   "cell_type": "markdown",
   "metadata": {},
   "source": [
    "> __NOTE__ : The following cell imports `NumPy`, a useful Python package for manipulating arrays. Please make sure to run that cell before continuing. "
   ]
  },
  {
   "cell_type": "code",
   "execution_count": 2,
   "metadata": {},
   "outputs": [],
   "source": [
    "import numpy as np"
   ]
  },
  {
   "cell_type": "markdown",
   "metadata": {},
   "source": [
    "> Arrays can be thought of as a list of values, or a collection of variables. In the following examples, I will show how we can create arrays using `NumPy` and perform the same arithmetic operations as before."
   ]
  },
  {
   "cell_type": "code",
   "execution_count": 3,
   "metadata": {},
   "outputs": [
    {
     "name": "stdout",
     "output_type": "stream",
     "text": [
      "[2 3 9 1]\n",
      "[ 2 10  7 22]\n",
      "[ 4 13 16 23]\n"
     ]
    }
   ],
   "source": [
    "####### Example #######\n",
    "my_arr = np.array([2,3,9,1]) # Give the np.array() function a list to create an array from \n",
    "\n",
    "arr2 = np.array([2,10,7,22])\n",
    "\n",
    "print(my_arr)\n",
    "print(arr2)\n",
    "print(my_arr + arr2) # Now we can do typical arithmetic"
   ]
  },
  {
   "cell_type": "markdown",
   "metadata": {},
   "source": [
    "**Practice:**"
   ]
  },
  {
   "cell_type": "markdown",
   "metadata": {},
   "source": [
    "> Create the following arrays: <br>\n",
    "       &#9656;  $\\textbf{x}\\ = (1,3,5,7,9)$ <br>\n",
    "       &#9656;  $\\textbf{y}\\ = (2,4,6,8,10)$<br><br>\n",
    "> Perform the following operations:\n",
    "1. $\\textbf{x}+\\textbf{y}$\n",
    "2. $\\textbf{x}\\times\\textbf{y}$\n",
    "3. $2\\textbf{x}-\\frac{\\textbf{y}}{2}$ <br>\n",
    "\n",
    "Please use `print()` to output your answers in the same cell."
   ]
  },
  {
   "cell_type": "code",
   "execution_count": 48,
   "metadata": {},
   "outputs": [],
   "source": [
    "####### YOUR CODE HERE #######\n"
   ]
  },
  {
   "cell_type": "markdown",
   "metadata": {},
   "source": [
    "> __Answers__:<br>\n",
    "1. array(  [ 3,  7, 11, 15, 19]  )\n",
    "2. array(  [ 2, 12, 30, 56, 90]  )\n",
    "3. array(  [ 1.,  4.,  7., 10., 13.]  )"
   ]
  },
  {
   "cell_type": "markdown",
   "metadata": {},
   "source": [
    "### 4. Indexing"
   ]
  },
  {
   "cell_type": "markdown",
   "metadata": {},
   "source": [
    "> Let's say that instead of performing operations with the entire array, we only want to work with a specific subset of values in the array. *How can we do this?* <br><br>\n",
    "Python arrays have an underlying identification system for each location in an array. Each location is given an \"___index___\" which counts from __0__ to the end of the array. We use \"__[ 0 ]__\" to get the first value in the array.<br><br>\n",
    "Take a look at the following example:"
   ]
  },
  {
   "cell_type": "code",
   "execution_count": 12,
   "metadata": {},
   "outputs": [
    {
     "name": "stdout",
     "output_type": "stream",
     "text": [
      "2.5 is the first value in price\n",
      "[2.68 2.72] are the second through the the fourth values in price (not including the fourth)\n",
      "2.14 gives the last value in price\n"
     ]
    }
   ],
   "source": [
    "####### Example #######\n",
    "price = np.array([2.5,2.68,2.72,2.13,2.14]) \n",
    "\n",
    "print(price[0],\"is the first value in price\")\n",
    "print(price[1:3],\n",
    "      \"are the second through the the fourth values in price (not including the fourth)\")\n",
    "print(price[-1],\"gives the last value in price\")"
   ]
  },
  {
   "cell_type": "markdown",
   "metadata": {},
   "source": [
    "> __Question__: How would you use indexing to change the __second__ element of the following array to a __7__?"
   ]
  },
  {
   "cell_type": "code",
   "execution_count": 16,
   "metadata": {},
   "outputs": [],
   "source": [
    "####### YOUR CODE HERE #######\n",
    "time = np.array([6.5,3,7.2,8,7.4])\n"
   ]
  },
  {
   "cell_type": "markdown",
   "metadata": {},
   "source": [
    "> __Answer__:"
   ]
  },
  {
   "cell_type": "code",
   "execution_count": 15,
   "metadata": {},
   "outputs": [
    {
     "name": "stdout",
     "output_type": "stream",
     "text": [
      "[6.5 7.  7.2 8.  7.4]\n"
     ]
    }
   ],
   "source": [
    "time[1] = 7\n",
    "print(time)"
   ]
  },
  {
   "cell_type": "markdown",
   "metadata": {},
   "source": [
    "> Replacing specified values of an array with other values is hugely useful in scientific programming. Let's work together through the following exercise: "
   ]
  },
  {
   "cell_type": "markdown",
   "metadata": {},
   "source": [
    "#### Practice:\n",
    "1. A population of yeast cells undergoes mitosis every hour, __doubling__ in population size. If there are __10 cells initially__, how many cells will there be after __3 hours__?"
   ]
  },
  {
   "cell_type": "code",
   "execution_count": 22,
   "metadata": {},
   "outputs": [
    {
     "name": "stdout",
     "output_type": "stream",
     "text": [
      "[10 20 40 80]\n",
      "After 3 hours, there will be  80  cells.\n"
     ]
    }
   ],
   "source": [
    "# We first create an array of zeros to store our information \n",
    "cells = np.array([0,0,0,0]) \n",
    "\n",
    "# Next we assign the initial value to the first index of our array\n",
    "cells[0] = 10\n",
    "\n",
    "# Finally we double the population size for each step, \n",
    "# and using the index of the previous value,\n",
    "# assign the result to the next index.\n",
    "cells[1] = cells[0]*2\n",
    "cells[2] = cells[1]*2\n",
    "cells[3] = cells[2]*2\n",
    "\n",
    "# We print our results:\n",
    "print(cells)\n",
    "print(\"After 3 hours, there will be \", cells[3], \" cells.\")"
   ]
  },
  {
   "cell_type": "markdown",
   "metadata": {},
   "source": [
    "#### Practice:\n",
    "1. Chicago is experiencing a flu epidemic. There are now __10,000__ people with the flu, and an __additional 2000__ will become infected each day. After how many days will the population of infected individuals have __exceeded 15,000__?"
   ]
  },
  {
   "cell_type": "code",
   "execution_count": null,
   "metadata": {},
   "outputs": [],
   "source": [
    "####### YOUR CODE HERE #######\n",
    "# HINT: Use the same method as before, but with the operations described above^^^\n"
   ]
  },
  {
   "cell_type": "markdown",
   "metadata": {},
   "source": [
    "> __Answer__: <br>\n",
    "After 4 days. "
   ]
  },
  {
   "cell_type": "markdown",
   "metadata": {},
   "source": [
    "### 5. Loops"
   ]
  },
  {
   "cell_type": "markdown",
   "metadata": {},
   "source": [
    "> Looking back at the calculations we just made, it sure looks like we need an easier way to perform repetitive tasks. Lucky for us, we can write \" __for loops__ \" to repeat a section of code however many times we want. "
   ]
  },
  {
   "cell_type": "code",
   "execution_count": 43,
   "metadata": {},
   "outputs": [
    {
     "name": "stdout",
     "output_type": "stream",
     "text": [
      "[10. 20. 40. 80.]\n",
      "After 3 hours, there will be  80.0  cells.\n"
     ]
    }
   ],
   "source": [
    "####### Example #######\n",
    "# Using for loops with the yeast cells problem looks like this:\n",
    "\n",
    "# We still want to create the same blank array first\n",
    "num_hours = 3 # from the yeast problem\n",
    "cells = np.zeros(num_hours+1) # np.zeros() makes an array of zeros with a length specified by the input.\n",
    "# the +1 adds a zero for the initial value\n",
    "\n",
    "# Next, we still assign the initial value to our array\n",
    "cells[0] = 10\n",
    "\n",
    "# BUT now we write a for loop to perform the calculation we want:\n",
    "for i in range(num_hours): \n",
    "    #take the current value of cells[i], multiply by 2, and assign that to the next value\n",
    "    cells[i+1] = cells[i]*2 \n",
    "    \n",
    "# We print our results:\n",
    "print(cells)\n",
    "print(\"After 3 hours, there will be \", cells[3], \" cells.\")"
   ]
  },
  {
   "cell_type": "markdown",
   "metadata": {},
   "source": [
    "> Let's look more closely at the skeleton of a for loop:"
   ]
  },
  {
   "cell_type": "code",
   "execution_count": 44,
   "metadata": {},
   "outputs": [
    {
     "name": "stdout",
     "output_type": "stream",
     "text": [
      "0\n",
      "1\n",
      "2\n",
      "3\n",
      "4\n"
     ]
    }
   ],
   "source": [
    "num_reps = 5 # variable that specifies the number of times to repeat the loop\n",
    "\n",
    "# i is a counting variable that increases by one and goes up to num_reps\n",
    "# range() tells the loop to start at i = 0 and go to i = (num_reps-1)\n",
    "for i in range(num_reps): # colon is important\n",
    "    print(i) # repeats the code that is indented\n",
    "\n",
    "## We use this counting \" i \" to index arrays and perform repetitive operations.  "
   ]
  },
  {
   "cell_type": "markdown",
   "metadata": {},
   "source": [
    "#### Practice:\n",
    "Use for loops and indexing to answer:\n",
    "1. Every year, the population of mice in a certain environment doubles. Unfortunately, 10 mice will be eaten by snakes each year. There are currently 15 mice. What will happen to the mice population after 5 years?"
   ]
  },
  {
   "cell_type": "code",
   "execution_count": 55,
   "metadata": {},
   "outputs": [],
   "source": [
    "####### YOUR CODE HERE #######\n"
   ]
  },
  {
   "cell_type": "markdown",
   "metadata": {},
   "source": [
    "> __Answer__: <br>\n",
    "There will be 170 mice. "
   ]
  },
  {
   "cell_type": "markdown",
   "metadata": {},
   "source": [
    "> __Question__: What happens if you change the initial mouse population to 10? to 5? <br>\n",
    "Do these outcomes make sense?"
   ]
  },
  {
   "cell_type": "markdown",
   "metadata": {},
   "source": [
    "### 6. Conditional Statements"
   ]
  },
  {
   "cell_type": "markdown",
   "metadata": {},
   "source": [
    "> We find that in building models, we often want to consider many possible outcomes. One of the simpler ways to do that is to provide a logical, or \" ___boolean___ \" statement based on a condition. These statements go something like :\n",
    "- If X is true, Y will happen. Else, if Z is true, W will happen. "
   ]
  },
  {
   "cell_type": "code",
   "execution_count": 66,
   "metadata": {
    "scrolled": false
   },
   "outputs": [
    {
     "name": "stdout",
     "output_type": "stream",
     "text": [
      "Even\n"
     ]
    }
   ],
   "source": [
    "####### Example #######\n",
    "x = 10\n",
    "if x % 2 == 0: # \"if the remainder of x / 2 is equal to 0\"\n",
    "    print(\"EVEN\")\n",
    "else: # \"or else\"\n",
    "    print(\"ODD\")"
   ]
  },
  {
   "cell_type": "markdown",
   "metadata": {},
   "source": [
    "> The cell above tests whether the value of x is even or odd and returns an outcome. Try different values of x to see it in action!"
   ]
  },
  {
   "cell_type": "markdown",
   "metadata": {},
   "source": [
    "> __Question__: How would you use conditional statements to test if a number is positive or negative? <br> HINT: Use \" > \" and \" < \" for greater than and less than operators!  "
   ]
  },
  {
   "cell_type": "code",
   "execution_count": null,
   "metadata": {},
   "outputs": [],
   "source": [
    "####### YOUR CODE HERE #######\n"
   ]
  },
  {
   "cell_type": "markdown",
   "metadata": {},
   "source": [
    "> The code below will produce an array of even numbers from any initial value. Take a look at how we can use conditional statements inside of for loops. Try different initial values. <br>\n",
    "__Question__: What can you tell about the way the code works? What are some limitations of it?"
   ]
  },
  {
   "cell_type": "code",
   "execution_count": 92,
   "metadata": {},
   "outputs": [
    {
     "name": "stdout",
     "output_type": "stream",
     "text": [
      "[ 2.  4.  6.  8. 10. 12.]\n"
     ]
    }
   ],
   "source": [
    "####### Example #######\n",
    "## Uses the same processes as before!\n",
    "arr_length = 5\n",
    "arr = np.zeros(arr_length+1)\n",
    "\n",
    "arr[0] = 1 ## Try different initial values! \n",
    "\n",
    "for i in range(arr_length):\n",
    "    if arr[i] % 2 == 0: # \"Is the value arr[i] even?\"\n",
    "        arr[i+1] = arr[i] + 2 # If true, add up to the next even number\n",
    "    else: # If the value arr[i] is not even\"\n",
    "        arr[i] = arr[i] + 1 #Make the value even by adding 1\n",
    "        arr[i+1] = arr[i] + 2 #Make the next value even\n",
    "        \n",
    "print(arr)"
   ]
  },
  {
   "cell_type": "markdown",
   "metadata": {},
   "source": [
    "#### Practice:\n",
    "Recall from our mouse model that for some initial population sizes, we'd get negative values over time. We can't have negative mice! Let's use conditional statements to fix this. <br><br>\n",
    "Copy your mouse model code in the cell below and __add a conditional statement__ to check whether the population size is negative __at each time step__. If it is, then assign that index of the array a value of 0. "
   ]
  },
  {
   "cell_type": "code",
   "execution_count": 93,
   "metadata": {},
   "outputs": [],
   "source": [
    "####### YOUR CODE HERE #######\n"
   ]
  },
  {
   "cell_type": "markdown",
   "metadata": {},
   "source": [
    "### 7. Plotting data"
   ]
  },
  {
   "cell_type": "markdown",
   "metadata": {},
   "source": [
    "> Another Python package! Please make sure to run the cell below before continuing. "
   ]
  },
  {
   "cell_type": "code",
   "execution_count": 94,
   "metadata": {},
   "outputs": [],
   "source": [
    "import matplotlib.pyplot as plt"
   ]
  },
  {
   "cell_type": "markdown",
   "metadata": {},
   "source": [
    "> For our last module, we'll briefly discuss how we can make nice graphs in Python. We'll be use the `MatPlot` Library. First, let's generate some data from a fun model."
   ]
  },
  {
   "cell_type": "markdown",
   "metadata": {},
   "source": [
    "#### Practice:\n",
    "Use what you know to build the following model:\n",
    "1. Amazon Alexa can sing 5 different songs. However, she is keen on keeping your attention for as long as possible once she has it. Every song she sings is 2 minutes long, but she will double the length of her next song for every minute she has previously sung. \n",
    "She hasn't started singing yet, but if we ask her to sing all of her songs, how long will she sing for?<br><br>\n",
    "__HINTS__: <br> \n",
    "Make sure to add the standard length of a song to each replicate. <br>\n",
    "Use the sum() function after the loop to add up the total ammount of time."
   ]
  },
  {
   "cell_type": "code",
   "execution_count": null,
   "metadata": {},
   "outputs": [],
   "source": [
    "####### YOUR CODE HERE #######\n"
   ]
  },
  {
   "cell_type": "code",
   "execution_count": 104,
   "metadata": {},
   "outputs": [
    {
     "name": "stdout",
     "output_type": "stream",
     "text": [
      "[ 0.  2.  6. 14. 30. 62.]\n",
      "Total time of beautiful serenade: 114.0 minutes\n"
     ]
    }
   ],
   "source": [
    "num_songs = 5\n",
    "songs_length = np.zeros(num_songs+1)\n",
    "\n",
    "for i in range(num_songs):\n",
    "    songs_length[i+1] =2*songs_length[i] + 2 \n",
    "print(songs_length)\n",
    "print(\"Total time of beautiful serenade:\", sum(songs_length), \"minutes\")"
   ]
  },
  {
   "cell_type": "markdown",
   "metadata": {},
   "source": [
    "> Now we can plot this data over time to see what sort of mess we've gotten into."
   ]
  },
  {
   "cell_type": "code",
   "execution_count": 99,
   "metadata": {},
   "outputs": [
    {
     "data": {
      "text/plain": [
       "[<matplotlib.lines.Line2D at 0x115ed8940>]"
      ]
     },
     "execution_count": 99,
     "metadata": {},
     "output_type": "execute_result"
    },
    {
     "data": {
      "image/png": "[encoded data removed]",
      "text/plain": [
       "<Figure size 432x288 with 1 Axes>"
      ]
     },
     "metadata": {},
     "output_type": "display_data"
    }
   ],
   "source": [
    "plt.plot(time)"
   ]
  },
  {
   "cell_type": "code",
   "execution_count": null,
   "metadata": {},
   "outputs": [],
   "source": []
  },
  {
   "cell_type": "markdown",
   "metadata": {},
   "source": [
    "> ___That's all folks!___ "
   ]
  }
 ],
 "metadata": {
  "kernelspec": {
   "display_name": "Python 3",
   "language": "python",
   "name": "python3"
  },
  "language_info": {
   "codemirror_mode": {
    "name": "ipython",
    "version": 3
   },
   "file_extension": ".py",
   "mimetype": "text/x-python",
   "name": "python",
   "nbconvert_exporter": "python",
   "pygments_lexer": "ipython3",
   "version": "3.6.5"
  }
 },
 "nbformat": 4,
 "nbformat_minor": 2
}
